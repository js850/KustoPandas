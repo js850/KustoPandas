{
 "cells": [
  {
   "cell_type": "code",
   "execution_count": 1,
   "metadata": {
    "collapsed": true
   },
   "outputs": [],
   "source": [
    "try:\n",
    "    import KustoPandas\n",
    "except:\n",
    "    import sys, os\n",
    "    sys.path.insert(0, os.path.abspath(os.path.join(os.path.abspath(\"\"), '..')))\n",
    "    import KustoPandas\n",
    "from KustoPandas import Wrap"
   ]
  },
  {
   "cell_type": "code",
   "execution_count": 2,
   "metadata": {
    "collapsed": true
   },
   "outputs": [],
   "source": [
    "import pandas as pd\n",
    "%matplotlib inline\n",
    "import urllib.request\n"
   ]
  },
  {
   "cell_type": "code",
   "execution_count": 3,
   "metadata": {},
   "outputs": [
    {
     "data": {
      "text/html": [
       "<div>\n",
       "<style>\n",
       "    .dataframe thead tr:only-child th {\n",
       "        text-align: right;\n",
       "    }\n",
       "\n",
       "    .dataframe thead th {\n",
       "        text-align: left;\n",
       "    }\n",
       "\n",
       "    .dataframe tbody tr th {\n",
       "        vertical-align: top;\n",
       "    }\n",
       "</style>\n",
       "<table border=\"1\" class=\"dataframe\">\n",
       "  <thead>\n",
       "    <tr style=\"text-align: right;\">\n",
       "      <th></th>\n",
       "      <th>president</th>\n",
       "      <th>subgroup</th>\n",
       "      <th>modeldate</th>\n",
       "      <th>startdate</th>\n",
       "      <th>enddate</th>\n",
       "      <th>pollster</th>\n",
       "      <th>grade</th>\n",
       "      <th>samplesize</th>\n",
       "      <th>population</th>\n",
       "      <th>weight</th>\n",
       "      <th>...</th>\n",
       "      <th>disapprove</th>\n",
       "      <th>adjusted_approve</th>\n",
       "      <th>adjusted_disapprove</th>\n",
       "      <th>multiversions</th>\n",
       "      <th>tracking</th>\n",
       "      <th>url</th>\n",
       "      <th>poll_id</th>\n",
       "      <th>question_id</th>\n",
       "      <th>createddate</th>\n",
       "      <th>timestamp</th>\n",
       "    </tr>\n",
       "  </thead>\n",
       "  <tbody>\n",
       "    <tr>\n",
       "      <th>0</th>\n",
       "      <td>Donald Trump</td>\n",
       "      <td>All polls</td>\n",
       "      <td>7/23/2020</td>\n",
       "      <td>1/20/2017</td>\n",
       "      <td>1/22/2017</td>\n",
       "      <td>Gallup</td>\n",
       "      <td>B</td>\n",
       "      <td>1500.0</td>\n",
       "      <td>a</td>\n",
       "      <td>0.262323</td>\n",
       "      <td>...</td>\n",
       "      <td>45.0</td>\n",
       "      <td>45.762709</td>\n",
       "      <td>43.573362</td>\n",
       "      <td>NaN</td>\n",
       "      <td>T</td>\n",
       "      <td>http://www.gallup.com/poll/201617/gallup-daily...</td>\n",
       "      <td>49253</td>\n",
       "      <td>77265</td>\n",
       "      <td>1/23/2017</td>\n",
       "      <td>17:15:30 23 Jul 2020</td>\n",
       "    </tr>\n",
       "    <tr>\n",
       "      <th>1</th>\n",
       "      <td>Donald Trump</td>\n",
       "      <td>All polls</td>\n",
       "      <td>7/23/2020</td>\n",
       "      <td>1/20/2017</td>\n",
       "      <td>1/22/2017</td>\n",
       "      <td>Morning Consult</td>\n",
       "      <td>B/C</td>\n",
       "      <td>1992.0</td>\n",
       "      <td>rv</td>\n",
       "      <td>0.680029</td>\n",
       "      <td>...</td>\n",
       "      <td>37.0</td>\n",
       "      <td>45.140403</td>\n",
       "      <td>37.897139</td>\n",
       "      <td>NaN</td>\n",
       "      <td>NaN</td>\n",
       "      <td>http://static.politico.com/9b/13/82a3baf542ae9...</td>\n",
       "      <td>49249</td>\n",
       "      <td>77261</td>\n",
       "      <td>1/23/2017</td>\n",
       "      <td>17:15:30 23 Jul 2020</td>\n",
       "    </tr>\n",
       "    <tr>\n",
       "      <th>2</th>\n",
       "      <td>Donald Trump</td>\n",
       "      <td>All polls</td>\n",
       "      <td>7/23/2020</td>\n",
       "      <td>1/21/2017</td>\n",
       "      <td>1/23/2017</td>\n",
       "      <td>Gallup</td>\n",
       "      <td>B</td>\n",
       "      <td>1500.0</td>\n",
       "      <td>a</td>\n",
       "      <td>0.242845</td>\n",
       "      <td>...</td>\n",
       "      <td>46.0</td>\n",
       "      <td>45.762709</td>\n",
       "      <td>44.573362</td>\n",
       "      <td>NaN</td>\n",
       "      <td>T</td>\n",
       "      <td>http://www.gallup.com/poll/201617/gallup-daily...</td>\n",
       "      <td>49262</td>\n",
       "      <td>77274</td>\n",
       "      <td>1/24/2017</td>\n",
       "      <td>17:15:30 23 Jul 2020</td>\n",
       "    </tr>\n",
       "    <tr>\n",
       "      <th>3</th>\n",
       "      <td>Donald Trump</td>\n",
       "      <td>All polls</td>\n",
       "      <td>7/23/2020</td>\n",
       "      <td>1/20/2017</td>\n",
       "      <td>1/24/2017</td>\n",
       "      <td>Ipsos</td>\n",
       "      <td>B-</td>\n",
       "      <td>1632.0</td>\n",
       "      <td>a</td>\n",
       "      <td>0.153481</td>\n",
       "      <td>...</td>\n",
       "      <td>45.2</td>\n",
       "      <td>43.139738</td>\n",
       "      <td>43.865897</td>\n",
       "      <td>NaN</td>\n",
       "      <td>T</td>\n",
       "      <td>http://polling.reuters.com/#poll/CP3_2/</td>\n",
       "      <td>49426</td>\n",
       "      <td>77599</td>\n",
       "      <td>3/1/2017</td>\n",
       "      <td>17:15:30 23 Jul 2020</td>\n",
       "    </tr>\n",
       "    <tr>\n",
       "      <th>4</th>\n",
       "      <td>Donald Trump</td>\n",
       "      <td>All polls</td>\n",
       "      <td>7/23/2020</td>\n",
       "      <td>1/22/2017</td>\n",
       "      <td>1/24/2017</td>\n",
       "      <td>Rasmussen Reports/Pulse Opinion Research</td>\n",
       "      <td>C+</td>\n",
       "      <td>1500.0</td>\n",
       "      <td>lv</td>\n",
       "      <td>0.200411</td>\n",
       "      <td>...</td>\n",
       "      <td>43.0</td>\n",
       "      <td>51.572471</td>\n",
       "      <td>44.385622</td>\n",
       "      <td>NaN</td>\n",
       "      <td>T</td>\n",
       "      <td>http://www.rasmussenreports.com/public_content...</td>\n",
       "      <td>49266</td>\n",
       "      <td>77278</td>\n",
       "      <td>1/25/2017</td>\n",
       "      <td>17:15:30 23 Jul 2020</td>\n",
       "    </tr>\n",
       "  </tbody>\n",
       "</table>\n",
       "<p>5 rows × 22 columns</p>\n",
       "</div>"
      ],
      "text/plain": [
       "      president   subgroup  modeldate  startdate    enddate  \\\n",
       "0  Donald Trump  All polls  7/23/2020  1/20/2017  1/22/2017   \n",
       "1  Donald Trump  All polls  7/23/2020  1/20/2017  1/22/2017   \n",
       "2  Donald Trump  All polls  7/23/2020  1/21/2017  1/23/2017   \n",
       "3  Donald Trump  All polls  7/23/2020  1/20/2017  1/24/2017   \n",
       "4  Donald Trump  All polls  7/23/2020  1/22/2017  1/24/2017   \n",
       "\n",
       "                                   pollster grade  samplesize population  \\\n",
       "0                                    Gallup     B      1500.0          a   \n",
       "1                           Morning Consult   B/C      1992.0         rv   \n",
       "2                                    Gallup     B      1500.0          a   \n",
       "3                                     Ipsos    B-      1632.0          a   \n",
       "4  Rasmussen Reports/Pulse Opinion Research    C+      1500.0         lv   \n",
       "\n",
       "     weight          ...           disapprove  adjusted_approve  \\\n",
       "0  0.262323          ...                 45.0         45.762709   \n",
       "1  0.680029          ...                 37.0         45.140403   \n",
       "2  0.242845          ...                 46.0         45.762709   \n",
       "3  0.153481          ...                 45.2         43.139738   \n",
       "4  0.200411          ...                 43.0         51.572471   \n",
       "\n",
       "   adjusted_disapprove  multiversions  tracking  \\\n",
       "0            43.573362            NaN         T   \n",
       "1            37.897139            NaN       NaN   \n",
       "2            44.573362            NaN         T   \n",
       "3            43.865897            NaN         T   \n",
       "4            44.385622            NaN         T   \n",
       "\n",
       "                                                 url poll_id question_id  \\\n",
       "0  http://www.gallup.com/poll/201617/gallup-daily...   49253       77265   \n",
       "1  http://static.politico.com/9b/13/82a3baf542ae9...   49249       77261   \n",
       "2  http://www.gallup.com/poll/201617/gallup-daily...   49262       77274   \n",
       "3            http://polling.reuters.com/#poll/CP3_2/   49426       77599   \n",
       "4  http://www.rasmussenreports.com/public_content...   49266       77278   \n",
       "\n",
       "   createddate             timestamp  \n",
       "0    1/23/2017  17:15:30 23 Jul 2020  \n",
       "1    1/23/2017  17:15:30 23 Jul 2020  \n",
       "2    1/24/2017  17:15:30 23 Jul 2020  \n",
       "3     3/1/2017  17:15:30 23 Jul 2020  \n",
       "4    1/25/2017  17:15:30 23 Jul 2020  \n",
       "\n",
       "[5 rows x 22 columns]"
      ]
     },
     "execution_count": 3,
     "metadata": {},
     "output_type": "execute_result"
    }
   ],
   "source": [
    "def dowload_dataset_if_necessary(url, filename):\n",
    "    if not os.path.exists(filename):\n",
    "        urllib.request.urlretrieve (url, filename)\n",
    "url = \"https://projects.fivethirtyeight.com/trump-approval-data/approval_polllist.csv\"\n",
    "filename = \"approval_polllist.csv\"\n",
    "dowload_dataset_if_necessary(url, filename)\n",
    "data = pd.read_csv(filename)\n",
    "data.head()"
   ]
  },
  {
   "cell_type": "code",
   "execution_count": 4,
   "metadata": {},
   "outputs": [
    {
     "data": {
      "text/plain": [
       "Index(['president', 'subgroup', 'modeldate', 'startdate', 'enddate',\n",
       "       'pollster', 'grade', 'samplesize', 'population', 'weight', 'influence',\n",
       "       'approve', 'disapprove', 'adjusted_approve', 'adjusted_disapprove',\n",
       "       'multiversions', 'tracking', 'url', 'poll_id', 'question_id',\n",
       "       'createddate', 'timestamp'],\n",
       "      dtype='object')"
      ]
     },
     "execution_count": 4,
     "metadata": {},
     "output_type": "execute_result"
    }
   ],
   "source": [
    "data.columns"
   ]
  },
  {
   "cell_type": "code",
   "execution_count": 5,
   "metadata": {},
   "outputs": [
    {
     "data": {
      "text/html": [
       "<div>\n",
       "<style>\n",
       "    .dataframe thead tr:only-child th {\n",
       "        text-align: right;\n",
       "    }\n",
       "\n",
       "    .dataframe thead th {\n",
       "        text-align: left;\n",
       "    }\n",
       "\n",
       "    .dataframe tbody tr th {\n",
       "        vertical-align: top;\n",
       "    }\n",
       "</style>\n",
       "<table border=\"1\" class=\"dataframe\">\n",
       "  <thead>\n",
       "    <tr style=\"text-align: right;\">\n",
       "      <th></th>\n",
       "      <th>president</th>\n",
       "      <th>subgroup</th>\n",
       "      <th>modeldate</th>\n",
       "      <th>startdate</th>\n",
       "      <th>enddate</th>\n",
       "      <th>pollster</th>\n",
       "      <th>grade</th>\n",
       "      <th>samplesize</th>\n",
       "      <th>population</th>\n",
       "      <th>weight</th>\n",
       "      <th>...</th>\n",
       "      <th>disapprove</th>\n",
       "      <th>adjusted_approve</th>\n",
       "      <th>adjusted_disapprove</th>\n",
       "      <th>multiversions</th>\n",
       "      <th>tracking</th>\n",
       "      <th>url</th>\n",
       "      <th>poll_id</th>\n",
       "      <th>question_id</th>\n",
       "      <th>createddate</th>\n",
       "      <th>timestamp</th>\n",
       "    </tr>\n",
       "  </thead>\n",
       "  <tbody>\n",
       "    <tr>\n",
       "      <th>0</th>\n",
       "      <td>Donald Trump</td>\n",
       "      <td>All polls</td>\n",
       "      <td>7/23/2020</td>\n",
       "      <td>1/20/2017</td>\n",
       "      <td>1/22/2017</td>\n",
       "      <td>Gallup</td>\n",
       "      <td>B</td>\n",
       "      <td>1500.0</td>\n",
       "      <td>a</td>\n",
       "      <td>0.262323</td>\n",
       "      <td>...</td>\n",
       "      <td>45.0</td>\n",
       "      <td>45.762709</td>\n",
       "      <td>43.573362</td>\n",
       "      <td>NaN</td>\n",
       "      <td>T</td>\n",
       "      <td>http://www.gallup.com/poll/201617/gallup-daily...</td>\n",
       "      <td>49253</td>\n",
       "      <td>77265</td>\n",
       "      <td>1/23/2017</td>\n",
       "      <td>17:15:30 23 Jul 2020</td>\n",
       "    </tr>\n",
       "    <tr>\n",
       "      <th>1</th>\n",
       "      <td>Donald Trump</td>\n",
       "      <td>All polls</td>\n",
       "      <td>7/23/2020</td>\n",
       "      <td>1/20/2017</td>\n",
       "      <td>1/22/2017</td>\n",
       "      <td>Morning Consult</td>\n",
       "      <td>B/C</td>\n",
       "      <td>1992.0</td>\n",
       "      <td>rv</td>\n",
       "      <td>0.680029</td>\n",
       "      <td>...</td>\n",
       "      <td>37.0</td>\n",
       "      <td>45.140403</td>\n",
       "      <td>37.897139</td>\n",
       "      <td>NaN</td>\n",
       "      <td>NaN</td>\n",
       "      <td>http://static.politico.com/9b/13/82a3baf542ae9...</td>\n",
       "      <td>49249</td>\n",
       "      <td>77261</td>\n",
       "      <td>1/23/2017</td>\n",
       "      <td>17:15:30 23 Jul 2020</td>\n",
       "    </tr>\n",
       "    <tr>\n",
       "      <th>2</th>\n",
       "      <td>Donald Trump</td>\n",
       "      <td>All polls</td>\n",
       "      <td>7/23/2020</td>\n",
       "      <td>1/21/2017</td>\n",
       "      <td>1/23/2017</td>\n",
       "      <td>Gallup</td>\n",
       "      <td>B</td>\n",
       "      <td>1500.0</td>\n",
       "      <td>a</td>\n",
       "      <td>0.242845</td>\n",
       "      <td>...</td>\n",
       "      <td>46.0</td>\n",
       "      <td>45.762709</td>\n",
       "      <td>44.573362</td>\n",
       "      <td>NaN</td>\n",
       "      <td>T</td>\n",
       "      <td>http://www.gallup.com/poll/201617/gallup-daily...</td>\n",
       "      <td>49262</td>\n",
       "      <td>77274</td>\n",
       "      <td>1/24/2017</td>\n",
       "      <td>17:15:30 23 Jul 2020</td>\n",
       "    </tr>\n",
       "    <tr>\n",
       "      <th>3</th>\n",
       "      <td>Donald Trump</td>\n",
       "      <td>All polls</td>\n",
       "      <td>7/23/2020</td>\n",
       "      <td>1/20/2017</td>\n",
       "      <td>1/24/2017</td>\n",
       "      <td>Ipsos</td>\n",
       "      <td>B-</td>\n",
       "      <td>1632.0</td>\n",
       "      <td>a</td>\n",
       "      <td>0.153481</td>\n",
       "      <td>...</td>\n",
       "      <td>45.2</td>\n",
       "      <td>43.139738</td>\n",
       "      <td>43.865897</td>\n",
       "      <td>NaN</td>\n",
       "      <td>T</td>\n",
       "      <td>http://polling.reuters.com/#poll/CP3_2/</td>\n",
       "      <td>49426</td>\n",
       "      <td>77599</td>\n",
       "      <td>3/1/2017</td>\n",
       "      <td>17:15:30 23 Jul 2020</td>\n",
       "    </tr>\n",
       "    <tr>\n",
       "      <th>4</th>\n",
       "      <td>Donald Trump</td>\n",
       "      <td>All polls</td>\n",
       "      <td>7/23/2020</td>\n",
       "      <td>1/22/2017</td>\n",
       "      <td>1/24/2017</td>\n",
       "      <td>Rasmussen Reports/Pulse Opinion Research</td>\n",
       "      <td>C+</td>\n",
       "      <td>1500.0</td>\n",
       "      <td>lv</td>\n",
       "      <td>0.200411</td>\n",
       "      <td>...</td>\n",
       "      <td>43.0</td>\n",
       "      <td>51.572471</td>\n",
       "      <td>44.385622</td>\n",
       "      <td>NaN</td>\n",
       "      <td>T</td>\n",
       "      <td>http://www.rasmussenreports.com/public_content...</td>\n",
       "      <td>49266</td>\n",
       "      <td>77278</td>\n",
       "      <td>1/25/2017</td>\n",
       "      <td>17:15:30 23 Jul 2020</td>\n",
       "    </tr>\n",
       "  </tbody>\n",
       "</table>\n",
       "<p>5 rows × 22 columns</p>\n",
       "</div>"
      ],
      "text/plain": [
       "<KustoPandas.kusto_pandas.Wrap at 0x222276c06a0>"
      ]
     },
     "execution_count": 5,
     "metadata": {},
     "output_type": "execute_result"
    }
   ],
   "source": [
    "w = Wrap(data)\n",
    "w.take(5)"
   ]
  },
  {
   "cell_type": "code",
   "execution_count": 6,
   "metadata": {},
   "outputs": [
    {
     "data": {
      "text/html": [
       "<div>\n",
       "<style>\n",
       "    .dataframe thead tr:only-child th {\n",
       "        text-align: right;\n",
       "    }\n",
       "\n",
       "    .dataframe thead th {\n",
       "        text-align: left;\n",
       "    }\n",
       "\n",
       "    .dataframe tbody tr th {\n",
       "        vertical-align: top;\n",
       "    }\n",
       "</style>\n",
       "<table border=\"1\" class=\"dataframe\">\n",
       "  <thead>\n",
       "    <tr style=\"text-align: right;\">\n",
       "      <th></th>\n",
       "      <th>president</th>\n",
       "      <th>count_</th>\n",
       "    </tr>\n",
       "  </thead>\n",
       "  <tbody>\n",
       "    <tr>\n",
       "      <th>0</th>\n",
       "      <td>Donald Trump</td>\n",
       "      <td>14151</td>\n",
       "    </tr>\n",
       "  </tbody>\n",
       "</table>\n",
       "</div>"
      ],
      "text/plain": [
       "<KustoPandas.kusto_pandas.Wrap at 0x222277b6fd0>"
      ]
     },
     "execution_count": 6,
     "metadata": {},
     "output_type": "execute_result"
    }
   ],
   "source": [
    "w.summarize(\"count() by president\")"
   ]
  },
  {
   "cell_type": "code",
   "execution_count": 7,
   "metadata": {},
   "outputs": [
    {
     "data": {
      "text/html": [
       "<div>\n",
       "<style>\n",
       "    .dataframe thead tr:only-child th {\n",
       "        text-align: right;\n",
       "    }\n",
       "\n",
       "    .dataframe thead th {\n",
       "        text-align: left;\n",
       "    }\n",
       "\n",
       "    .dataframe tbody tr th {\n",
       "        vertical-align: top;\n",
       "    }\n",
       "</style>\n",
       "<table border=\"1\" class=\"dataframe\">\n",
       "  <thead>\n",
       "    <tr style=\"text-align: right;\">\n",
       "      <th></th>\n",
       "      <th>pollster</th>\n",
       "      <th>grade</th>\n",
       "      <th>count_</th>\n",
       "    </tr>\n",
       "  </thead>\n",
       "  <tbody>\n",
       "    <tr>\n",
       "      <th>58</th>\n",
       "      <td>YouGov</td>\n",
       "      <td>B</td>\n",
       "      <td>4308</td>\n",
       "    </tr>\n",
       "    <tr>\n",
       "      <th>24</th>\n",
       "      <td>Ipsos</td>\n",
       "      <td>B-</td>\n",
       "      <td>2626</td>\n",
       "    </tr>\n",
       "    <tr>\n",
       "      <th>41</th>\n",
       "      <td>Rasmussen Reports/Pulse Opinion Research</td>\n",
       "      <td>C+</td>\n",
       "      <td>1772</td>\n",
       "    </tr>\n",
       "    <tr>\n",
       "      <th>31</th>\n",
       "      <td>Morning Consult</td>\n",
       "      <td>B/C</td>\n",
       "      <td>1082</td>\n",
       "    </tr>\n",
       "    <tr>\n",
       "      <th>21</th>\n",
       "      <td>HarrisX</td>\n",
       "      <td>C</td>\n",
       "      <td>868</td>\n",
       "    </tr>\n",
       "    <tr>\n",
       "      <th>16</th>\n",
       "      <td>Gallup</td>\n",
       "      <td>B</td>\n",
       "      <td>840</td>\n",
       "    </tr>\n",
       "    <tr>\n",
       "      <th>48</th>\n",
       "      <td>SurveyMonkey</td>\n",
       "      <td>D-</td>\n",
       "      <td>454</td>\n",
       "    </tr>\n",
       "    <tr>\n",
       "      <th>39</th>\n",
       "      <td>Quinnipiac University</td>\n",
       "      <td>B+</td>\n",
       "      <td>128</td>\n",
       "    </tr>\n",
       "    <tr>\n",
       "      <th>27</th>\n",
       "      <td>Marist College</td>\n",
       "      <td>A+</td>\n",
       "      <td>120</td>\n",
       "    </tr>\n",
       "    <tr>\n",
       "      <th>1</th>\n",
       "      <td>American Research Group</td>\n",
       "      <td>B</td>\n",
       "      <td>109</td>\n",
       "    </tr>\n",
       "  </tbody>\n",
       "</table>\n",
       "</div>"
      ],
      "text/plain": [
       "<KustoPandas.kusto_pandas.Wrap at 0x222277b6588>"
      ]
     },
     "execution_count": 7,
     "metadata": {},
     "output_type": "execute_result"
    }
   ],
   "source": [
    "w.summarize(\"count() by pollster, grade\").top(10, \"count_\")"
   ]
  },
  {
   "cell_type": "code",
   "execution_count": 8,
   "metadata": {
    "collapsed": true
   },
   "outputs": [],
   "source": [
    "w = w.project_rename(\"enddate = datetime(enddate)\")"
   ]
  },
  {
   "cell_type": "code",
   "execution_count": 9,
   "metadata": {},
   "outputs": [
    {
     "data": {
      "text/plain": [
       "<matplotlib.axes._subplots.AxesSubplot at 0x222276c0828>"
      ]
     },
     "execution_count": 9,
     "metadata": {},
     "output_type": "execute_result"
    },
    {
     "data": {
      "image/png": "[encoded data removed]",
      "text/plain": [
       "<matplotlib.figure.Figure at 0x222277b60f0>"
      ]
     },
     "metadata": {},
     "output_type": "display_data"
    }
   ],
   "source": [
    "(w.summarize(\"avg(approve), avg(disapprove) by bin(enddate, 7d)\")\n",
    ".render(\"timechart\"))"
   ]
  },
  {
   "cell_type": "code",
   "execution_count": 10,
   "metadata": {},
   "outputs": [
    {
     "data": {
      "text/plain": [
       "<matplotlib.axes._subplots.AxesSubplot at 0x22227c68d68>"
      ]
     },
     "execution_count": 10,
     "metadata": {},
     "output_type": "execute_result"
    },
    {
     "data": {
      "image/png": "[encoded data removed]",
      "text/plain": [
       "<matplotlib.figure.Figure at 0x222277b6dd8>"
      ]
     },
     "metadata": {},
     "output_type": "display_data"
    }
   ],
   "source": [
    "(w.summarize(\"count() by pollster\")\n",
    " .top(10, \"count_\")\n",
    " .render(\"barchart\"))"
   ]
  },
  {
   "cell_type": "code",
   "execution_count": 11,
   "metadata": {},
   "outputs": [
    {
     "data": {
      "text/plain": [
       "<matplotlib.axes._subplots.AxesSubplot at 0x22228e53eb8>"
      ]
     },
     "execution_count": 11,
     "metadata": {},
     "output_type": "execute_result"
    },
    {
     "data": {
      "image/png": "[encoded data removed]",
      "text/plain": [
       "<matplotlib.figure.Figure at 0x222291e9390>"
      ]
     },
     "metadata": {},
     "output_type": "display_data"
    }
   ],
   "source": [
    "(w\n",
    " .summarize(\"num_polls= count(), avg(approve), avg(disapprove) by pollster\")\n",
    " .top(10, \"num_polls\")\n",
    " .project_away(\"num_polls\")\n",
    " .render(\"barchart\"))"
   ]
  },
  {
   "cell_type": "code",
   "execution_count": null,
   "metadata": {},
   "outputs": [],
   "source": []
  },
  {
   "cell_type": "code",
   "execution_count": null,
   "metadata": {
    "collapsed": true
   },
   "outputs": [],
   "source": []
  },
  {
   "cell_type": "code",
   "execution_count": null,
   "metadata": {
    "collapsed": true
   },
   "outputs": [],
   "source": []
  }
 ],
 "metadata": {
  "kernelspec": {
   "display_name": "Python 3",
   "language": "python",
   "name": "python3"
  },
  "language_info": {
   "codemirror_mode": {
    "name": "ipython",
    "version": 3
   },
   "file_extension": ".py",
   "mimetype": "text/x-python",
   "name": "python",
   "nbconvert_exporter": "python",
   "pygments_lexer": "ipython3",
   "version": "3.6.2"
  }
 },
 "nbformat": 4,
 "nbformat_minor": 2
}
