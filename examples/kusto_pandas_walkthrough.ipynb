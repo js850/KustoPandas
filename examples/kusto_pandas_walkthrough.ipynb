{
 "cells": [
  {
   "cell_type": "code",
   "execution_count": 1,
   "metadata": {
    "collapsed": true
   },
   "outputs": [],
   "source": [
    "import sys\n",
    "import os\n",
    "\n",
    "import pandas as pd\n",
    "%matplotlib inline\n",
    "import urllib.request"
   ]
  },
  {
   "cell_type": "code",
   "execution_count": 2,
   "metadata": {
    "collapsed": true
   },
   "outputs": [],
   "source": [
    "try:\n",
    "    import KustoPandas\n",
    "except:\n",
    "    sys.path.insert(0, os.path.abspath(os.path.join(os.path.abspath(\"\"), '..')))\n",
    "    import KustoPandas\n",
    "from KustoPandas import Wrap"
   ]
  },
  {
   "cell_type": "markdown",
   "metadata": {},
   "source": [
    "Get a sample dataset and import it as a Pandas DataFrame"
   ]
  },
  {
   "cell_type": "code",
   "execution_count": 3,
   "metadata": {
    "collapsed": true
   },
   "outputs": [],
   "source": [
    "def dowload_dataset_if_necessary(url, filename):\n",
    "    if not os.path.exists(filename):\n",
    "        urllib.request.urlretrieve (url, filename)\n",
    "url = \"https://projects.fivethirtyeight.com/trump-approval-data/approval_polllist.csv\"\n",
    "filename = \"approval_polllist.csv\"\n",
    "dowload_dataset_if_necessary(url, filename)\n",
    "data = pd.read_csv(filename, parse_dates=[\"modeldate\", \"startdate\", \"enddate\"])"
   ]
  },
  {
   "cell_type": "markdown",
   "metadata": {},
   "source": [
    "wrap it using KustoPandas"
   ]
  },
  {
   "cell_type": "code",
   "execution_count": 4,
   "metadata": {
    "collapsed": true
   },
   "outputs": [],
   "source": [
    "w = Wrap(data)"
   ]
  },
  {
   "cell_type": "markdown",
   "metadata": {
    "collapsed": true
   },
   "source": [
    "Now we can start to explore it using KustoPandas commands.  \n",
    "\n",
    "Lets start with something simple and just look at a few lines.\n",
    "\n",
    "The corresponding kusto command would be \n",
    "\n",
    "```\n",
    "w | take 5\n",
    "```\n",
    "\n",
    "Python doesn't support `\\`, so instead we use `.`"
   ]
  },
  {
   "cell_type": "code",
   "execution_count": 5,
   "metadata": {},
   "outputs": [
    {
     "data": {
      "text/html": [
       "<div>\n",
       "<style>\n",
       "    .dataframe thead tr:only-child th {\n",
       "        text-align: right;\n",
       "    }\n",
       "\n",
       "    .dataframe thead th {\n",
       "        text-align: left;\n",
       "    }\n",
       "\n",
       "    .dataframe tbody tr th {\n",
       "        vertical-align: top;\n",
       "    }\n",
       "</style>\n",
       "<table border=\"1\" class=\"dataframe\">\n",
       "  <thead>\n",
       "    <tr style=\"text-align: right;\">\n",
       "      <th></th>\n",
       "      <th>president</th>\n",
       "      <th>subgroup</th>\n",
       "      <th>modeldate</th>\n",
       "      <th>startdate</th>\n",
       "      <th>enddate</th>\n",
       "      <th>pollster</th>\n",
       "      <th>grade</th>\n",
       "      <th>samplesize</th>\n",
       "      <th>population</th>\n",
       "      <th>weight</th>\n",
       "      <th>...</th>\n",
       "      <th>disapprove</th>\n",
       "      <th>adjusted_approve</th>\n",
       "      <th>adjusted_disapprove</th>\n",
       "      <th>multiversions</th>\n",
       "      <th>tracking</th>\n",
       "      <th>url</th>\n",
       "      <th>poll_id</th>\n",
       "      <th>question_id</th>\n",
       "      <th>createddate</th>\n",
       "      <th>timestamp</th>\n",
       "    </tr>\n",
       "  </thead>\n",
       "  <tbody>\n",
       "    <tr>\n",
       "      <th>0</th>\n",
       "      <td>Donald Trump</td>\n",
       "      <td>All polls</td>\n",
       "      <td>2020-07-23</td>\n",
       "      <td>2017-01-20</td>\n",
       "      <td>2017-01-22</td>\n",
       "      <td>Gallup</td>\n",
       "      <td>B</td>\n",
       "      <td>1500.0</td>\n",
       "      <td>a</td>\n",
       "      <td>0.262323</td>\n",
       "      <td>...</td>\n",
       "      <td>45.0</td>\n",
       "      <td>45.762709</td>\n",
       "      <td>43.573362</td>\n",
       "      <td>NaN</td>\n",
       "      <td>T</td>\n",
       "      <td>http://www.gallup.com/poll/201617/gallup-daily...</td>\n",
       "      <td>49253</td>\n",
       "      <td>77265</td>\n",
       "      <td>1/23/2017</td>\n",
       "      <td>17:15:30 23 Jul 2020</td>\n",
       "    </tr>\n",
       "    <tr>\n",
       "      <th>1</th>\n",
       "      <td>Donald Trump</td>\n",
       "      <td>All polls</td>\n",
       "      <td>2020-07-23</td>\n",
       "      <td>2017-01-20</td>\n",
       "      <td>2017-01-22</td>\n",
       "      <td>Morning Consult</td>\n",
       "      <td>B/C</td>\n",
       "      <td>1992.0</td>\n",
       "      <td>rv</td>\n",
       "      <td>0.680029</td>\n",
       "      <td>...</td>\n",
       "      <td>37.0</td>\n",
       "      <td>45.140403</td>\n",
       "      <td>37.897139</td>\n",
       "      <td>NaN</td>\n",
       "      <td>NaN</td>\n",
       "      <td>http://static.politico.com/9b/13/82a3baf542ae9...</td>\n",
       "      <td>49249</td>\n",
       "      <td>77261</td>\n",
       "      <td>1/23/2017</td>\n",
       "      <td>17:15:30 23 Jul 2020</td>\n",
       "    </tr>\n",
       "    <tr>\n",
       "      <th>2</th>\n",
       "      <td>Donald Trump</td>\n",
       "      <td>All polls</td>\n",
       "      <td>2020-07-23</td>\n",
       "      <td>2017-01-21</td>\n",
       "      <td>2017-01-23</td>\n",
       "      <td>Gallup</td>\n",
       "      <td>B</td>\n",
       "      <td>1500.0</td>\n",
       "      <td>a</td>\n",
       "      <td>0.242845</td>\n",
       "      <td>...</td>\n",
       "      <td>46.0</td>\n",
       "      <td>45.762709</td>\n",
       "      <td>44.573362</td>\n",
       "      <td>NaN</td>\n",
       "      <td>T</td>\n",
       "      <td>http://www.gallup.com/poll/201617/gallup-daily...</td>\n",
       "      <td>49262</td>\n",
       "      <td>77274</td>\n",
       "      <td>1/24/2017</td>\n",
       "      <td>17:15:30 23 Jul 2020</td>\n",
       "    </tr>\n",
       "    <tr>\n",
       "      <th>3</th>\n",
       "      <td>Donald Trump</td>\n",
       "      <td>All polls</td>\n",
       "      <td>2020-07-23</td>\n",
       "      <td>2017-01-20</td>\n",
       "      <td>2017-01-24</td>\n",
       "      <td>Ipsos</td>\n",
       "      <td>B-</td>\n",
       "      <td>1632.0</td>\n",
       "      <td>a</td>\n",
       "      <td>0.153481</td>\n",
       "      <td>...</td>\n",
       "      <td>45.2</td>\n",
       "      <td>43.139738</td>\n",
       "      <td>43.865897</td>\n",
       "      <td>NaN</td>\n",
       "      <td>T</td>\n",
       "      <td>http://polling.reuters.com/#poll/CP3_2/</td>\n",
       "      <td>49426</td>\n",
       "      <td>77599</td>\n",
       "      <td>3/1/2017</td>\n",
       "      <td>17:15:30 23 Jul 2020</td>\n",
       "    </tr>\n",
       "    <tr>\n",
       "      <th>4</th>\n",
       "      <td>Donald Trump</td>\n",
       "      <td>All polls</td>\n",
       "      <td>2020-07-23</td>\n",
       "      <td>2017-01-22</td>\n",
       "      <td>2017-01-24</td>\n",
       "      <td>Rasmussen Reports/Pulse Opinion Research</td>\n",
       "      <td>C+</td>\n",
       "      <td>1500.0</td>\n",
       "      <td>lv</td>\n",
       "      <td>0.200411</td>\n",
       "      <td>...</td>\n",
       "      <td>43.0</td>\n",
       "      <td>51.572471</td>\n",
       "      <td>44.385622</td>\n",
       "      <td>NaN</td>\n",
       "      <td>T</td>\n",
       "      <td>http://www.rasmussenreports.com/public_content...</td>\n",
       "      <td>49266</td>\n",
       "      <td>77278</td>\n",
       "      <td>1/25/2017</td>\n",
       "      <td>17:15:30 23 Jul 2020</td>\n",
       "    </tr>\n",
       "  </tbody>\n",
       "</table>\n",
       "<p>5 rows × 22 columns</p>\n",
       "</div>"
      ],
      "text/plain": [
       "<KustoPandas.kusto_pandas.Wrap at 0x1650482ce48>"
      ]
     },
     "execution_count": 5,
     "metadata": {},
     "output_type": "execute_result"
    }
   ],
   "source": [
    "w.take(5)"
   ]
  },
  {
   "cell_type": "markdown",
   "metadata": {},
   "source": [
    "Notice that the output is a nicely formatted table.  That is becuase KustoPandas is just a shallow wrapper around a pandas dataframe.  Pandas is doing the hard work of formatting it nicely in jupyter\n",
    "\n",
    "Lets explore the data a bit more using the summarize operator.  Here is the Kusto command\n",
    "\n",
    "```\n",
    "w | summarize count(), min(startdate), max(startdate), dcount(pollster), AverageDisapproval = avg(disapprove)\"\n",
    "```\n",
    "\n",
    "The way we execute this in python is that the top level kusto operator (summarize) is a class method. All arguments are passed to the method as a string"
   ]
  },
  {
   "cell_type": "code",
   "execution_count": 6,
   "metadata": {},
   "outputs": [
    {
     "data": {
      "text/html": [
       "<div>\n",
       "<style>\n",
       "    .dataframe thead tr:only-child th {\n",
       "        text-align: right;\n",
       "    }\n",
       "\n",
       "    .dataframe thead th {\n",
       "        text-align: left;\n",
       "    }\n",
       "\n",
       "    .dataframe tbody tr th {\n",
       "        vertical-align: top;\n",
       "    }\n",
       "</style>\n",
       "<table border=\"1\" class=\"dataframe\">\n",
       "  <thead>\n",
       "    <tr style=\"text-align: right;\">\n",
       "      <th></th>\n",
       "      <th>count_</th>\n",
       "      <th>min_startdate</th>\n",
       "      <th>max_startdate</th>\n",
       "      <th>dcount_pollster</th>\n",
       "      <th>AverageDisapproval</th>\n",
       "    </tr>\n",
       "  </thead>\n",
       "  <tbody>\n",
       "    <tr>\n",
       "      <th>0</th>\n",
       "      <td>14151</td>\n",
       "      <td>2017-01-20</td>\n",
       "      <td>2020-07-21</td>\n",
       "      <td>84</td>\n",
       "      <td>53.337543</td>\n",
       "    </tr>\n",
       "  </tbody>\n",
       "</table>\n",
       "</div>"
      ],
      "text/plain": [
       "<KustoPandas.kusto_pandas.Wrap at 0x16504883240>"
      ]
     },
     "execution_count": 6,
     "metadata": {},
     "output_type": "execute_result"
    }
   ],
   "source": [
    "w.summarize(\"count(), min(startdate), max(startdate), dcount(pollster), AverageDisapproval = avg(disapprove)\")"
   ]
  },
  {
   "cell_type": "markdown",
   "metadata": {
    "collapsed": true
   },
   "source": [
    "Similarly we can use the `where` operator to do filtering.  The Kusto query would be\n",
    "\n",
    "```\n",
    "w | where grade in (\"A\", \"B\")\n",
    "```\n",
    "\n",
    "Again (and this is always the case) the top level operator `where` is the class method and the rest of the arguments are passed as a string.\n",
    "\n",
    "But the output of the above would be too long, so lets chain operators together\n",
    "\n",
    "```\n",
    "w | where grade in (\"A\", \"B\") | summarize count() by grade, pollster\n",
    "```"
   ]
  },
  {
   "cell_type": "code",
   "execution_count": 7,
   "metadata": {},
   "outputs": [
    {
     "data": {
      "text/html": [
       "<div>\n",
       "<style>\n",
       "    .dataframe thead tr:only-child th {\n",
       "        text-align: right;\n",
       "    }\n",
       "\n",
       "    .dataframe thead th {\n",
       "        text-align: left;\n",
       "    }\n",
       "\n",
       "    .dataframe tbody tr th {\n",
       "        vertical-align: top;\n",
       "    }\n",
       "</style>\n",
       "<table border=\"1\" class=\"dataframe\">\n",
       "  <thead>\n",
       "    <tr style=\"text-align: right;\">\n",
       "      <th></th>\n",
       "      <th>grade</th>\n",
       "      <th>pollster</th>\n",
       "      <th>count_</th>\n",
       "      <th>avg_disapprove</th>\n",
       "    </tr>\n",
       "  </thead>\n",
       "  <tbody>\n",
       "    <tr>\n",
       "      <th>0</th>\n",
       "      <td>A</td>\n",
       "      <td>CBS News</td>\n",
       "      <td>41</td>\n",
       "      <td>54.024390</td>\n",
       "    </tr>\n",
       "    <tr>\n",
       "      <th>1</th>\n",
       "      <td>A</td>\n",
       "      <td>Suffolk University</td>\n",
       "      <td>30</td>\n",
       "      <td>52.640000</td>\n",
       "    </tr>\n",
       "    <tr>\n",
       "      <th>2</th>\n",
       "      <td>A</td>\n",
       "      <td>SurveyUSA</td>\n",
       "      <td>4</td>\n",
       "      <td>51.500000</td>\n",
       "    </tr>\n",
       "    <tr>\n",
       "      <th>3</th>\n",
       "      <td>B</td>\n",
       "      <td>American Research Group</td>\n",
       "      <td>109</td>\n",
       "      <td>57.440367</td>\n",
       "    </tr>\n",
       "    <tr>\n",
       "      <th>4</th>\n",
       "      <td>B</td>\n",
       "      <td>GQR Research</td>\n",
       "      <td>28</td>\n",
       "      <td>54.273810</td>\n",
       "    </tr>\n",
       "    <tr>\n",
       "      <th>5</th>\n",
       "      <td>B</td>\n",
       "      <td>Gallup</td>\n",
       "      <td>840</td>\n",
       "      <td>55.545238</td>\n",
       "    </tr>\n",
       "    <tr>\n",
       "      <th>6</th>\n",
       "      <td>B</td>\n",
       "      <td>Public Policy Polling</td>\n",
       "      <td>80</td>\n",
       "      <td>52.950000</td>\n",
       "    </tr>\n",
       "    <tr>\n",
       "      <th>7</th>\n",
       "      <td>B</td>\n",
       "      <td>YouGov</td>\n",
       "      <td>4308</td>\n",
       "      <td>52.132916</td>\n",
       "    </tr>\n",
       "  </tbody>\n",
       "</table>\n",
       "</div>"
      ],
      "text/plain": [
       "<KustoPandas.kusto_pandas.Wrap at 0x165048dcf28>"
      ]
     },
     "execution_count": 7,
     "metadata": {},
     "output_type": "execute_result"
    }
   ],
   "source": [
    "w.where(\"grade in ('A', 'B')\").summarize(\"count(), avg(disapprove) by grade, pollster\")"
   ]
  },
  {
   "cell_type": "markdown",
   "metadata": {},
   "source": [
    "KustoPandas fully supports arbitrary mathematical expressions, just like kusto"
   ]
  },
  {
   "cell_type": "markdown",
   "metadata": {},
   "source": [
    "w.extend(\"NewWeight = exp(weight - 4) * 0.5\").summarize(\"min(NewWeight), max(NewWeight), avg(NewWeight)\")"
   ]
  },
  {
   "cell_type": "markdown",
   "metadata": {},
   "source": [
    "It also supports kusto's nice syntax for binning time values"
   ]
  },
  {
   "cell_type": "code",
   "execution_count": 9,
   "metadata": {},
   "outputs": [
    {
     "data": {
      "text/html": [
       "<div>\n",
       "<style>\n",
       "    .dataframe thead tr:only-child th {\n",
       "        text-align: right;\n",
       "    }\n",
       "\n",
       "    .dataframe thead th {\n",
       "        text-align: left;\n",
       "    }\n",
       "\n",
       "    .dataframe tbody tr th {\n",
       "        vertical-align: top;\n",
       "    }\n",
       "</style>\n",
       "<table border=\"1\" class=\"dataframe\">\n",
       "  <thead>\n",
       "    <tr style=\"text-align: right;\">\n",
       "      <th></th>\n",
       "      <th>bin_startdate</th>\n",
       "      <th>count_</th>\n",
       "    </tr>\n",
       "  </thead>\n",
       "  <tbody>\n",
       "    <tr>\n",
       "      <th>0</th>\n",
       "      <td>2017-01-20</td>\n",
       "      <td>9</td>\n",
       "    </tr>\n",
       "    <tr>\n",
       "      <th>1</th>\n",
       "      <td>2017-01-21</td>\n",
       "      <td>5</td>\n",
       "    </tr>\n",
       "    <tr>\n",
       "      <th>2</th>\n",
       "      <td>2017-01-22</td>\n",
       "      <td>7</td>\n",
       "    </tr>\n",
       "    <tr>\n",
       "      <th>3</th>\n",
       "      <td>2017-01-23</td>\n",
       "      <td>12</td>\n",
       "    </tr>\n",
       "    <tr>\n",
       "      <th>4</th>\n",
       "      <td>2017-01-24</td>\n",
       "      <td>7</td>\n",
       "    </tr>\n",
       "  </tbody>\n",
       "</table>\n",
       "</div>"
      ],
      "text/plain": [
       "<KustoPandas.kusto_pandas.Wrap at 0x1650482ca90>"
      ]
     },
     "execution_count": 9,
     "metadata": {},
     "output_type": "execute_result"
    }
   ],
   "source": [
    "w.summarize(\"count() by bin(startdate, 1d)\").take(5)"
   ]
  },
  {
   "cell_type": "markdown",
   "metadata": {},
   "source": [
    "Notice that all the above commands leave `w` unchanged.  In fact that will always be true.  All operations will leave `w` unchanged and return a new instance of the `Wrap` class wrapping a new instance of a Pandas DataFrame.  This is generally the behavior that pandas follows as well, and Pandas makes it easy to do this without duplicating the data inside the dataframe.\n",
    "\n",
    "If you want to save the output of a calculation, you can do just that"
   ]
  },
  {
   "cell_type": "code",
   "execution_count": 11,
   "metadata": {},
   "outputs": [
    {
     "name": "stdout",
     "output_type": "stream",
     "text": [
      "number of polls with grade A\n",
      "   Count\n",
      "0     75\n",
      "total number of polls\n",
      "   Count\n",
      "0  14151\n"
     ]
    }
   ],
   "source": [
    "A_rated = w.where(\"grade == 'A'\")\n",
    "print(\"number of polls with grade A\")\n",
    "print(A_rated.count())\n",
    "print(\"total number of polls\")\n",
    "print(w.count())"
   ]
  },
  {
   "cell_type": "markdown",
   "metadata": {},
   "source": [
    "There are some things that are easier to do in python and Pandas than with kusto, so KustoPandas provides easy access to to the underlying dataframe using `w.df`\n",
    "\n",
    "For example, we can format the output in the above expression more nicely by accessing the dataframe directly"
   ]
  },
  {
   "cell_type": "code",
   "execution_count": 20,
   "metadata": {},
   "outputs": [
    {
     "name": "stdout",
     "output_type": "stream",
     "text": [
      "number of polls with grade A:  75\n",
      "total number of polls:         14151\n"
     ]
    }
   ],
   "source": [
    "print(\"number of polls with grade A: \", A_rated.df.shape[0])\n",
    "print(\"total number of polls:        \", w.df.shape[0])"
   ]
  },
  {
   "cell_type": "markdown",
   "metadata": {},
   "source": [
    "Of couse the above example is a bit contrived and the info can be written more succinctly using summarize"
   ]
  },
  {
   "cell_type": "code",
   "execution_count": 21,
   "metadata": {},
   "outputs": [
    {
     "data": {
      "text/html": [
       "<div>\n",
       "<style>\n",
       "    .dataframe thead tr:only-child th {\n",
       "        text-align: right;\n",
       "    }\n",
       "\n",
       "    .dataframe thead th {\n",
       "        text-align: left;\n",
       "    }\n",
       "\n",
       "    .dataframe tbody tr th {\n",
       "        vertical-align: top;\n",
       "    }\n",
       "</style>\n",
       "<table border=\"1\" class=\"dataframe\">\n",
       "  <thead>\n",
       "    <tr style=\"text-align: right;\">\n",
       "      <th></th>\n",
       "      <th>TotalNumberOfPolls</th>\n",
       "      <th>NumberOfPollsWithGradeA</th>\n",
       "    </tr>\n",
       "  </thead>\n",
       "  <tbody>\n",
       "    <tr>\n",
       "      <th>0</th>\n",
       "      <td>14151</td>\n",
       "      <td>75</td>\n",
       "    </tr>\n",
       "  </tbody>\n",
       "</table>\n",
       "</div>"
      ],
      "text/plain": [
       "<KustoPandas.kusto_pandas.Wrap at 0x16504d305c0>"
      ]
     },
     "execution_count": 21,
     "metadata": {},
     "output_type": "execute_result"
    }
   ],
   "source": [
    "w.summarize(\"TotalNumberOfPolls=count(), NumberOfPollsWithGradeA = countif(grade == 'A')\")"
   ]
  },
  {
   "cell_type": "code",
   "execution_count": null,
   "metadata": {
    "collapsed": true
   },
   "outputs": [],
   "source": []
  }
 ],
 "metadata": {
  "kernelspec": {
   "display_name": "Python 3",
   "language": "python",
   "name": "python3"
  },
  "language_info": {
   "codemirror_mode": {
    "name": "ipython",
    "version": 3
   },
   "file_extension": ".py",
   "mimetype": "text/x-python",
   "name": "python",
   "nbconvert_exporter": "python",
   "pygments_lexer": "ipython3",
   "version": "3.6.2"
  }
 },
 "nbformat": 4,
 "nbformat_minor": 2
}
